{
  "nbformat": 4,
  "nbformat_minor": 0,
  "metadata": {
    "colab": {
      "name": "Cube Solver.ipynb",
      "provenance": [],
      "collapsed_sections": [],
      "authorship_tag": "ABX9TyM1rK1W32A9gUhbPsQ3Zo0t",
      "include_colab_link": true
    },
    "kernelspec": {
      "name": "python3",
      "display_name": "Python 3"
    },
    "language_info": {
      "name": "python"
    }
  },
  "cells": [
    {
      "cell_type": "markdown",
      "metadata": {
        "id": "view-in-github",
        "colab_type": "text"
      },
      "source": [
        "<a href=\"https://colab.research.google.com/github/joachimwan/CubeSolver/blob/main/Cube_Solver.ipynb\" target=\"_parent\"><img src=\"https://colab.research.google.com/assets/colab-badge.svg\" alt=\"Open In Colab\"/></a>"
      ]
    },
    {
      "cell_type": "code",
      "metadata": {
        "colab": {
          "base_uri": "https://localhost:8080/",
          "height": 973
        },
        "id": "_l_LFkq4WyIY",
        "outputId": "4cd9a572-21d3-491c-fc8e-5a35826644a6"
      },
      "source": [
        "import numpy as np\n",
        "import matplotlib.pyplot as plt\n",
        "\n",
        "\n",
        "class Pieces:\n",
        "  def __init__(self, x, y, z):\n",
        "    self.color = {\"F\":0, \"B\":0, \"L\":0, \"R\":0, \"U\":0, \"D\":0}\n",
        "    self.position = np.array([x, y, z])\n",
        "  \n",
        "  def rotate_x(self):\n",
        "    # rotate position along right-left axis\n",
        "    rotate_x = np.array([[ 1, 0, 0],\n",
        "                         [ 0, 0, 1],\n",
        "                         [ 0,-1, 0]])\n",
        "    old_position = self.position.reshape(3,1)\n",
        "    new_position = np.matmul(rotate_x, old_position)\n",
        "    self.position = new_position.transpose()[0]\n",
        "    \n",
        "    # rotate color\n",
        "    self.color = {\"F\":self.color[\"D\"], \"B\":self.color[\"U\"], \"L\":self.color[\"L\"], \"R\":self.color[\"R\"], \"U\":self.color[\"F\"], \"D\":self.color[\"B\"]}\n",
        "  \n",
        "  def rotate_y(self):\n",
        "    # rotate position along up-down axis\n",
        "    rotate_y = np.array([[ 0, 0,-1],\n",
        "                         [ 0, 1, 0],\n",
        "                         [ 1, 0, 0]])\n",
        "    old_position = self.position.reshape(3,1)\n",
        "    new_position = np.matmul(rotate_y, old_position)\n",
        "    self.position = new_position.transpose()[0]\n",
        "    \n",
        "    # rotate color\n",
        "    self.color = {\"F\":self.color[\"R\"], \"B\":self.color[\"L\"], \"L\":self.color[\"F\"], \"R\":self.color[\"B\"], \"U\":self.color[\"U\"], \"D\":self.color[\"D\"]}\n",
        "\n",
        "  def rotate_z(self):\n",
        "    # rotate position along front-back axis\n",
        "    rotate_z = np.array([[ 0, 1, 0],\n",
        "                         [-1, 0, 0],\n",
        "                         [ 0, 0, 1]])\n",
        "    old_position = self.position.reshape(3,1)\n",
        "    new_position = np.matmul(rotate_z, old_position)\n",
        "    self.position = new_position.transpose()[0]\n",
        "    \n",
        "    # rotate color\n",
        "    self.color = {\"F\":self.color[\"F\"], \"B\":self.color[\"B\"], \"L\":self.color[\"D\"], \"R\":self.color[\"U\"], \"U\":self.color[\"L\"], \"D\":self.color[\"R\"]}\n",
        "\n",
        "\n",
        "class Cube:\n",
        "  def __init__(self):\n",
        "    # initialize pieces\n",
        "    self.pieces = []\n",
        "    for x in range(3):\n",
        "      for y in range(3):\n",
        "        for z in range(3):\n",
        "          self.pieces.append(Pieces(x-1,y-1,z-1))\n",
        "    # initialize colors\n",
        "    for piece in self.pieces:\n",
        "      if piece.position[0] == 1:\n",
        "        piece.color[\"R\"] = 4\n",
        "      if piece.position[0] == -1:\n",
        "        piece.color[\"L\"] = 3\n",
        "      if piece.position[1] == 1:\n",
        "        piece.color[\"U\"] = 5\n",
        "      if piece.position[1] == -1:\n",
        "        piece.color[\"D\"] = 6\n",
        "      if piece.position[2] == 1:\n",
        "        piece.color[\"F\"] = 1\n",
        "      if piece.position[2] == -1:\n",
        "        piece.color[\"B\"] = 2\n",
        "    \n",
        "    print(\"A new Cube is initialized!\\n\")\n",
        "  \n",
        "  # get current state\n",
        "  def state(self):\n",
        "    s = []\n",
        "    for x in range(3):\n",
        "      for y in range(3):\n",
        "        for z in range(3):\n",
        "          for piece in self.pieces:\n",
        "            if np.array_equal(piece.position, np.array([x-1, y-1, z-1])):\n",
        "              for side in [\"F\", \"B\", \"L\", \"R\", \"U\", \"D\"]:\n",
        "                if piece.color[side] is not 0:\n",
        "                  s.append(piece.color[side])\n",
        "    return np.array(s).reshape(-1,1)\n",
        "  \n",
        "  # set current state to input state\n",
        "  def set_state(self, s):\n",
        "    s = s.reshape(1,-1)[0]\n",
        "    for x in range(3):\n",
        "      for y in range(3):\n",
        "        for z in range(3):\n",
        "          for piece in self.pieces:\n",
        "            if np.array_equal(piece.position, np.array([x-1, y-1, z-1])):\n",
        "              for side in [\"F\", \"B\", \"L\", \"R\", \"U\", \"D\"]:\n",
        "                if piece.color[side] is not 0:\n",
        "                  piece.color[side] = s[0]\n",
        "                  s = np.delete(s,0)\n",
        "  \n",
        "  # move using input action e.g. [\"F\", \"B\", \"U'\"]\n",
        "  def move(self, action):\n",
        "    for a in action:\n",
        "      if a == \"R\":\n",
        "        self.rotate_right()\n",
        "      if a == \"R'\":\n",
        "        self.rotate_right_p()\n",
        "      if a == \"L\":\n",
        "        self.rotate_left()\n",
        "      if a == \"L'\":\n",
        "        self.rotate_left_p()\n",
        "      if a == \"U\":\n",
        "        self.rotate_up()\n",
        "      if a == \"U'\":\n",
        "        self.rotate_up_p()\n",
        "      if a == \"D\":\n",
        "        self.rotate_down()\n",
        "      if a == \"D'\":\n",
        "        self.rotate_down_p()\n",
        "      if a == \"F\":\n",
        "        self.rotate_front()\n",
        "      if a == \"F'\":\n",
        "        self.rotate_front_p()\n",
        "      if a == \"B\":\n",
        "        self.rotate_back()\n",
        "      if a == \"B'\":\n",
        "        self.rotate_back_p()\n",
        "  \n",
        "  # helper function for MCTS: set cube to state, take action, return new state\n",
        "  def get_next_state(self, s, action):\n",
        "    self.set_state(s)\n",
        "    self.move(action)\n",
        "    return self.state()\n",
        "\n",
        "  # find which pieces to rotate\n",
        "  def rotate_right(self):\n",
        "    for piece in self.pieces:\n",
        "      if piece.position[0] == 1:\n",
        "        piece.rotate_x()\n",
        "  \n",
        "  def rotate_right_p(self):\n",
        "    for piece in self.pieces:\n",
        "      if piece.position[0] == 1:\n",
        "        piece.rotate_x()\n",
        "        piece.rotate_x()\n",
        "        piece.rotate_x()\n",
        "  \n",
        "  def rotate_left(self):\n",
        "    for piece in self.pieces:\n",
        "      if piece.position[0] == -1:\n",
        "        piece.rotate_x()\n",
        "        piece.rotate_x()\n",
        "        piece.rotate_x()\n",
        "\n",
        "  def rotate_left_p(self):\n",
        "    for piece in self.pieces:\n",
        "      if piece.position[0] == -1:\n",
        "        piece.rotate_x()\n",
        "  \n",
        "  def rotate_up(self):\n",
        "    for piece in self.pieces:\n",
        "      if piece.position[1] == 1:\n",
        "        piece.rotate_y()\n",
        "  \n",
        "  def rotate_up_p(self):\n",
        "    for piece in self.pieces:\n",
        "      if piece.position[1] == 1:\n",
        "        piece.rotate_y()\n",
        "        piece.rotate_y()\n",
        "        piece.rotate_y()\n",
        "  \n",
        "  def rotate_down(self):\n",
        "    for piece in self.pieces:\n",
        "      if piece.position[1] == -1:\n",
        "        piece.rotate_y()\n",
        "        piece.rotate_y()\n",
        "        piece.rotate_y()\n",
        "\n",
        "  def rotate_down_p(self):\n",
        "    for piece in self.pieces:\n",
        "      if piece.position[1] == -1:\n",
        "        piece.rotate_y()\n",
        "  \n",
        "  def rotate_front(self):\n",
        "    for piece in self.pieces:\n",
        "      if piece.position[2] == 1:\n",
        "        piece.rotate_z()\n",
        "  \n",
        "  def rotate_front_p(self):\n",
        "    for piece in self.pieces:\n",
        "      if piece.position[2] == 1:\n",
        "        piece.rotate_z()\n",
        "        piece.rotate_z()\n",
        "        piece.rotate_z()\n",
        "  \n",
        "  def rotate_back(self):\n",
        "    for piece in self.pieces:\n",
        "      if piece.position[2] == -1:\n",
        "        piece.rotate_z()\n",
        "        piece.rotate_z()\n",
        "        piece.rotate_z()\n",
        "\n",
        "  def rotate_back_p(self):\n",
        "    for piece in self.pieces:\n",
        "      if piece.position[2] == -1:\n",
        "        piece.rotate_z()\n",
        "  \n",
        "  # check for solved state\n",
        "  def solved(self):\n",
        "    F, B, L, R, U, D = set(), set(), set(), set(), set(), set()\n",
        "    for piece in self.pieces:\n",
        "      F.add(piece.color[\"F\"])\n",
        "      B.add(piece.color[\"B\"])\n",
        "      L.add(piece.color[\"L\"])\n",
        "      R.add(piece.color[\"R\"])\n",
        "      U.add(piece.color[\"U\"])\n",
        "      D.add(piece.color[\"D\"])\n",
        "    if len(F) == 2 and len(B) == 2 and len(L) == 2 and len(R) == 2 and len(U) == 2 and len(D) == 2:\n",
        "      return True\n",
        "    else:\n",
        "      return False\n",
        "  \n",
        "  def draw(self):\n",
        "    color = [\"black\", \"blue\", \"green\", \"orange\", \"red\", \"yellow\", \"whitesmoke\"]\n",
        "    \n",
        "    plt.figure(figsize=[20,15], dpi=80, facecolor='white')\n",
        "\n",
        "    c, pos = {}, {}\n",
        "    \n",
        "    # create empty dicts\n",
        "    for side in [\"F\", \"B\", \"L\", \"R\", \"U\", \"D\"]:\n",
        "      c[side] = []\n",
        "      pos[side] = []\n",
        "    \n",
        "    # retrieve face color\n",
        "    for piece in self.pieces:\n",
        "      if piece.position[1]==1:\n",
        "        c[\"U\"].append(piece.color[\"U\"])\n",
        "        pos[\"U\"].append(piece.position[0:3:2])\n",
        "      if piece.position[0]==-1:\n",
        "        c[\"L\"].append(piece.color[\"L\"])\n",
        "        pos[\"L\"].append(piece.position[1:])\n",
        "      if piece.position[2]==1:\n",
        "        c[\"F\"].append(piece.color[\"F\"])\n",
        "        pos[\"F\"].append(piece.position[:2])\n",
        "      if piece.position[0]==1:\n",
        "        c[\"R\"].append(piece.color[\"R\"])\n",
        "        pos[\"R\"].append(piece.position[1:])\n",
        "      if piece.position[2]==-1:\n",
        "        c[\"B\"].append(piece.color[\"B\"])\n",
        "        pos[\"B\"].append(piece.position[:2])\n",
        "      if piece.position[1]==-1:\n",
        "        c[\"D\"].append(piece.color[\"D\"])\n",
        "        pos[\"D\"].append(piece.position[0:3:2])\n",
        "\n",
        "    # Up\n",
        "    plt.subplot(3,4,2)\n",
        "    for i, p in enumerate(pos[\"U\"]):\n",
        "      plt.plot(p[0], p[1], color=color[c[\"U\"][i]], marker='s', linestyle='None', markersize=80)\n",
        "    plt.gca().invert_yaxis()\n",
        "    plt.axis('equal')\n",
        "    plt.xticks([-1.5,1.5])\n",
        "    plt.yticks([-1.5,1.5])\n",
        "    plt.axis('off')\n",
        "\n",
        "    # Left\n",
        "    plt.subplot(3,4,5)\n",
        "    for i, p in enumerate(pos[\"L\"]):\n",
        "      plt.plot(p[1], p[0], color=color[c[\"L\"][i]], marker='s', linestyle='None', markersize=80)\n",
        "    plt.axis('equal')\n",
        "    plt.xticks([-1.5,1.5])\n",
        "    plt.yticks([-1.5,1.5])\n",
        "    plt.axis('off')\n",
        "\n",
        "    # Front\n",
        "    plt.subplot(3,4,6)\n",
        "    for i, p in enumerate(pos[\"F\"]):\n",
        "      plt.plot(p[0], p[1], color=color[c[\"F\"][i]], marker='s', linestyle='None', markersize=80)\n",
        "    plt.axis('equal')\n",
        "    plt.xticks([-1.5,1.5])\n",
        "    plt.yticks([-1.5,1.5])\n",
        "    plt.axis('off')\n",
        "\n",
        "    # Right\n",
        "    plt.subplot(3,4,7)\n",
        "    for i, p in enumerate(pos[\"R\"]):\n",
        "      plt.plot(p[1], p[0], color=color[c[\"R\"][i]], marker='s', linestyle='None', markersize=80)\n",
        "    plt.gca().invert_xaxis()\n",
        "    plt.axis('equal')\n",
        "    plt.xticks([-1.5,1.5])\n",
        "    plt.yticks([-1.5,1.5])\n",
        "    plt.axis('off')\n",
        "\n",
        "    # Back\n",
        "    plt.subplot(3,4,8)\n",
        "    for i, p in enumerate(pos[\"B\"]):\n",
        "      plt.plot(p[0], p[1], color=color[c[\"B\"][i]], marker='s', linestyle='None', markersize=80)\n",
        "    plt.gca().invert_xaxis()\n",
        "    plt.axis('equal')\n",
        "    plt.xticks([-1.5,1.5])\n",
        "    plt.yticks([-1.5,1.5])\n",
        "    plt.axis('off')\n",
        "\n",
        "    # Down\n",
        "    plt.subplot(3,4,10)\n",
        "    for i, p in enumerate(pos[\"D\"]):\n",
        "      plt.plot(p[0], p[1], color=color[c[\"D\"][i]], marker='s', linestyle='None', markersize=80)\n",
        "    plt.axis('equal')\n",
        "    plt.xticks([-1.5,1.5])\n",
        "    plt.yticks([-1.5,1.5])\n",
        "    plt.axis('off')\n",
        "\n",
        "\n",
        "cube = Cube()\n",
        "cube.draw()"
      ],
      "execution_count": 66,
      "outputs": [
        {
          "output_type": "stream",
          "text": [
            "A new Cube is initialized!\n",
            "\n"
          ],
          "name": "stdout"
        },
        {
          "output_type": "display_data",
          "data": {
            "image/png": "[encoded data removed]",
            "text/plain": [
              "<Figure size 1600x1200 with 6 Axes>"
            ]
          },
          "metadata": {
            "tags": []
          }
        }
      ]
    },
    {
      "cell_type": "code",
      "metadata": {
        "colab": {
          "base_uri": "https://localhost:8080/",
          "height": 973
        },
        "id": "TUl3VO2D-Vh6",
        "outputId": "a83956a0-01d4-452c-9729-9deb3ac85707"
      },
      "source": [
        "cube.__init__()\n",
        "cube.move([\"F\", \"B\", \"L\", \"R\", \"U\", \"D\"])\n",
        "cube.draw()"
      ],
      "execution_count": 73,
      "outputs": [
        {
          "output_type": "stream",
          "text": [
            "A new Cube is initialized!\n",
            "\n"
          ],
          "name": "stdout"
        },
        {
          "output_type": "display_data",
          "data": {
            "image/png": "[encoded data removed]",
            "text/plain": [
              "<Figure size 1600x1200 with 6 Axes>"
            ]
          },
          "metadata": {
            "tags": []
          }
        }
      ]
    },
    {
      "cell_type": "code",
      "metadata": {
        "id": "tWtLMePni-wh"
      },
      "source": [
        "s = cube.state()"
      ],
      "execution_count": 74,
      "outputs": []
    },
    {
      "cell_type": "code",
      "metadata": {
        "colab": {
          "base_uri": "https://localhost:8080/",
          "height": 1000
        },
        "id": "ya8TKchXndkm",
        "outputId": "cfad7083-9b58-4db3-fcce-83a2daa375a8"
      },
      "source": [
        "cube.__init__()\n",
        "ss = cube.get_next_state(s, [\"R\"])\n",
        "\n",
        "cube.__init__()\n",
        "cube.set_state(s)\n",
        "cube.move([\"R\"])\n",
        "cube.draw()"
      ],
      "execution_count": 75,
      "outputs": [
        {
          "output_type": "stream",
          "text": [
            "A new Cube is initialized!\n",
            "\n",
            "A new Cube is initialized!\n",
            "\n"
          ],
          "name": "stdout"
        },
        {
          "output_type": "display_data",
          "data": {
            "image/png": "[encoded data removed]",
            "text/plain": [
              "<Figure size 1600x1200 with 6 Axes>"
            ]
          },
          "metadata": {
            "tags": []
          }
        }
      ]
    },
    {
      "cell_type": "code",
      "metadata": {
        "id": "So1LzsLNngL1"
      },
      "source": [
        "cube.set_state(ss)"
      ],
      "execution_count": 76,
      "outputs": []
    },
    {
      "cell_type": "code",
      "metadata": {
        "colab": {
          "base_uri": "https://localhost:8080/",
          "height": 939
        },
        "id": "H6U7hAx9ooC5",
        "outputId": "4c723217-aec3-4337-e385-3d5531f785a4"
      },
      "source": [
        "cube.draw()"
      ],
      "execution_count": 77,
      "outputs": [
        {
          "output_type": "display_data",
          "data": {
            "image/png": "[encoded data removed]",
            "text/plain": [
              "<Figure size 1600x1200 with 6 Axes>"
            ]
          },
          "metadata": {
            "tags": []
          }
        }
      ]
    },
    {
      "cell_type": "code",
      "metadata": {
        "id": "MVo9bGnuoqRm"
      },
      "source": [
        ""
      ],
      "execution_count": null,
      "outputs": []
    }
  ]
}